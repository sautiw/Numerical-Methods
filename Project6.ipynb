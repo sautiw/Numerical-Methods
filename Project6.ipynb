{
  "nbformat": 4,
  "nbformat_minor": 0,
  "metadata": {
    "colab": {
      "name": "Project6.ipynb",
      "provenance": [],
      "collapsed_sections": [],
      "toc_visible": true,
      "include_colab_link": true
    },
    "kernelspec": {
      "name": "python3",
      "display_name": "Python 3"
    }
  },
  "cells": [
    {
      "cell_type": "markdown",
      "metadata": {
        "id": "view-in-github",
        "colab_type": "text"
      },
      "source": [
        "<a href=\"https://colab.research.google.com/github/sautiw/Numerical-Methods/blob/main/Project6.ipynb\" target=\"_parent\"><img src=\"https://colab.research.google.com/assets/colab-badge.svg\" alt=\"Open In Colab\"/></a>"
      ]
    },
    {
      "cell_type": "markdown",
      "metadata": {
        "id": "aphcgAqI28HE"
      },
      "source": [
        "## Project Part 6\n",
        "Saurabh Tiwari\n",
        "\n",
        "Salin Giri\n",
        "\n",
        "Rahul Gauli\n"
      ]
    },
    {
      "cell_type": "code",
      "metadata": {
        "id": "FncOaQHD2-0q"
      },
      "source": [
        "import numpy as np\r\n",
        "import scipy.linalg as la\r\n",
        "from scipy import stats\r\n",
        "import matplotlib.pyplot as plt\r\n",
        "import seaborn as sns\r\n",
        "import pandas as pd\r\n",
        "\r\n",
        "\r\n",
        "%matplotlib inline"
      ],
      "execution_count": null,
      "outputs": []
    },
    {
      "cell_type": "markdown",
      "metadata": {
        "id": "4cJOCudNQtVN"
      },
      "source": [
        "Linear and nonlinear regression are famous machine learning models used to predict values given the relationship between different variables in a dataset. While both types of regression model the relationship between variables, linear regression fits a linear line to observe while nonlinear regression fits curves. Both the linear line and the curves can be attributed to certain equations that define them. These equations determine the type of line to be fitted within a data cluster. Nonlinear regression majorly deals with curves, i.e., lines generated from quadratic, polynomial, exponential, and cubic equations, while linear regression deals primarily with fitting straight lines in data clusters to make predictions. Regression relies on two distinctive variables, i.e., x and y values, that can be plotted on a graph. A line of best fit is further plotted against the data points to observe behavior. Regression relies on one dependent variable (y value been predicted) and one or more independent variables (x). When working with regression, it is essential to clean the dataset used. Correlation between the variables can also be calculated to aid in showing the relationship between chosen variables. The heatmap created significantly helps in establishing the connection between two or more variables. Nonlinear regression requires more analysis of data variables to determine their relationship. The variables determine the type of curve equation to be used. Python provides libraries like 'sklearn,' which is excellent for creating predictive linear and nonlinear models.\n"
      ]
    },
    {
      "cell_type": "markdown",
      "metadata": {
        "id": "H5NfWSgRQ3We"
      },
      "source": [
        "Lets use the data from online"
      ]
    },
    {
      "cell_type": "code",
      "metadata": {
        "colab": {
          "base_uri": "https://localhost:8080/",
          "height": 220
        },
        "id": "bP0Mko0THFSZ",
        "outputId": "89c29e8f-30b9-41ed-da3e-43c82357fe58"
      },
      "source": [
        "raw_data = pd.read_csv(\"/content/Marketing Raw Data.csv\")\r\n",
        "raw_data.head(n=6)"
      ],
      "execution_count": null,
      "outputs": [
        {
          "output_type": "execute_result",
          "data": {
            "text/html": [
              "<div>\n",
              "<style scoped>\n",
              "    .dataframe tbody tr th:only-of-type {\n",
              "        vertical-align: middle;\n",
              "    }\n",
              "\n",
              "    .dataframe tbody tr th {\n",
              "        vertical-align: top;\n",
              "    }\n",
              "\n",
              "    .dataframe thead th {\n",
              "        text-align: right;\n",
              "    }\n",
              "</style>\n",
              "<table border=\"1\" class=\"dataframe\">\n",
              "  <thead>\n",
              "    <tr style=\"text-align: right;\">\n",
              "      <th></th>\n",
              "      <th>Date</th>\n",
              "      <th>Week</th>\n",
              "      <th>Week_ID</th>\n",
              "      <th>Month</th>\n",
              "      <th>Month_ID</th>\n",
              "      <th>Year</th>\n",
              "      <th>Day_Name</th>\n",
              "      <th>Visitors</th>\n",
              "      <th>Revenue</th>\n",
              "      <th>Marketing Spend</th>\n",
              "      <th>Promo</th>\n",
              "    </tr>\n",
              "  </thead>\n",
              "  <tbody>\n",
              "    <tr>\n",
              "      <th>0</th>\n",
              "      <td>9/11/2020</td>\n",
              "      <td>46.0</td>\n",
              "      <td>34.0</td>\n",
              "      <td>11.0</td>\n",
              "      <td>11.0</td>\n",
              "      <td>2020.0</td>\n",
              "      <td>Monday</td>\n",
              "      <td>707.0</td>\n",
              "      <td>465.0</td>\n",
              "      <td>651.375</td>\n",
              "      <td>No Promo</td>\n",
              "    </tr>\n",
              "    <tr>\n",
              "      <th>1</th>\n",
              "      <td>10/11/2020</td>\n",
              "      <td>46.0</td>\n",
              "      <td>34.0</td>\n",
              "      <td>11.0</td>\n",
              "      <td>11.0</td>\n",
              "      <td>2020.0</td>\n",
              "      <td>Tuesday</td>\n",
              "      <td>1455.0</td>\n",
              "      <td>10386.0</td>\n",
              "      <td>1298.250</td>\n",
              "      <td>Promotion Red</td>\n",
              "    </tr>\n",
              "    <tr>\n",
              "      <th>2</th>\n",
              "      <td>11/11/2020</td>\n",
              "      <td>46.0</td>\n",
              "      <td>34.0</td>\n",
              "      <td>11.0</td>\n",
              "      <td>11.0</td>\n",
              "      <td>2020.0</td>\n",
              "      <td>Wednesday</td>\n",
              "      <td>1520.0</td>\n",
              "      <td>12475.0</td>\n",
              "      <td>1559.375</td>\n",
              "      <td>Promotion Blue</td>\n",
              "    </tr>\n",
              "    <tr>\n",
              "      <th>3</th>\n",
              "      <td>12/11/2020</td>\n",
              "      <td>46.0</td>\n",
              "      <td>34.0</td>\n",
              "      <td>11.0</td>\n",
              "      <td>11.0</td>\n",
              "      <td>2020.0</td>\n",
              "      <td>Thursday</td>\n",
              "      <td>1726.0</td>\n",
              "      <td>11712.0</td>\n",
              "      <td>1801.750</td>\n",
              "      <td>No Promo</td>\n",
              "    </tr>\n",
              "    <tr>\n",
              "      <th>4</th>\n",
              "      <td>13/11/2020</td>\n",
              "      <td>46.0</td>\n",
              "      <td>34.0</td>\n",
              "      <td>11.0</td>\n",
              "      <td>11.0</td>\n",
              "      <td>2020.0</td>\n",
              "      <td>Friday</td>\n",
              "      <td>2134.0</td>\n",
              "      <td>10000.0</td>\n",
              "      <td>2614.500</td>\n",
              "      <td>No Promo</td>\n",
              "    </tr>\n",
              "    <tr>\n",
              "      <th>5</th>\n",
              "      <td>14/11/2020</td>\n",
              "      <td>46.0</td>\n",
              "      <td>34.0</td>\n",
              "      <td>11.0</td>\n",
              "      <td>11.0</td>\n",
              "      <td>2020.0</td>\n",
              "      <td>Saturday</td>\n",
              "      <td>1316.0</td>\n",
              "      <td>12996.0</td>\n",
              "      <td>1444.000</td>\n",
              "      <td>Promotion Blue</td>\n",
              "    </tr>\n",
              "  </tbody>\n",
              "</table>\n",
              "</div>"
            ],
            "text/plain": [
              "         Date  Week  Week_ID  ...  Revenue  Marketing Spend           Promo\n",
              "0   9/11/2020  46.0     34.0  ...    465.0          651.375        No Promo\n",
              "1  10/11/2020  46.0     34.0  ...  10386.0         1298.250   Promotion Red\n",
              "2  11/11/2020  46.0     34.0  ...  12475.0         1559.375  Promotion Blue\n",
              "3  12/11/2020  46.0     34.0  ...  11712.0         1801.750        No Promo\n",
              "4  13/11/2020  46.0     34.0  ...  10000.0         2614.500        No Promo\n",
              "5  14/11/2020  46.0     34.0  ...  12996.0         1444.000  Promotion Blue\n",
              "\n",
              "[6 rows x 11 columns]"
            ]
          },
          "metadata": {
            "tags": []
          },
          "execution_count": 15
        }
      ]
    },
    {
      "cell_type": "markdown",
      "metadata": {
        "id": "DC4V-3rwZcf3"
      },
      "source": [
        "Check for any null values and display by column"
      ]
    },
    {
      "cell_type": "code",
      "metadata": {
        "colab": {
          "base_uri": "https://localhost:8080/",
          "height": 133
        },
        "id": "zvyEQi3_ZNhf",
        "outputId": "e3589040-b949-4ef7-844d-2b86d62a34e4"
      },
      "source": [
        "raw_data.isnull().sum()\r\n",
        "raw_data[raw_data['Week'].isnull()]"
      ],
      "execution_count": null,
      "outputs": [
        {
          "output_type": "execute_result",
          "data": {
            "text/html": [
              "<div>\n",
              "<style scoped>\n",
              "    .dataframe tbody tr th:only-of-type {\n",
              "        vertical-align: middle;\n",
              "    }\n",
              "\n",
              "    .dataframe tbody tr th {\n",
              "        vertical-align: top;\n",
              "    }\n",
              "\n",
              "    .dataframe thead th {\n",
              "        text-align: right;\n",
              "    }\n",
              "</style>\n",
              "<table border=\"1\" class=\"dataframe\">\n",
              "  <thead>\n",
              "    <tr style=\"text-align: right;\">\n",
              "      <th></th>\n",
              "      <th>Date</th>\n",
              "      <th>Week</th>\n",
              "      <th>Week_ID</th>\n",
              "      <th>Month</th>\n",
              "      <th>Month_ID</th>\n",
              "      <th>Year</th>\n",
              "      <th>Day_Name</th>\n",
              "      <th>Visitors</th>\n",
              "      <th>Revenue</th>\n",
              "      <th>Marketing Spend</th>\n",
              "      <th>Promo</th>\n",
              "    </tr>\n",
              "  </thead>\n",
              "  <tbody>\n",
              "    <tr>\n",
              "      <th>182</th>\n",
              "      <td>10/5/2021</td>\n",
              "      <td>NaN</td>\n",
              "      <td>NaN</td>\n",
              "      <td>NaN</td>\n",
              "      <td>NaN</td>\n",
              "      <td>NaN</td>\n",
              "      <td>NaN</td>\n",
              "      <td>NaN</td>\n",
              "      <td>NaN</td>\n",
              "      <td>NaN</td>\n",
              "      <td>NaN</td>\n",
              "    </tr>\n",
              "    <tr>\n",
              "      <th>183</th>\n",
              "      <td>11/5/2021</td>\n",
              "      <td>NaN</td>\n",
              "      <td>NaN</td>\n",
              "      <td>NaN</td>\n",
              "      <td>NaN</td>\n",
              "      <td>NaN</td>\n",
              "      <td>NaN</td>\n",
              "      <td>NaN</td>\n",
              "      <td>NaN</td>\n",
              "      <td>NaN</td>\n",
              "      <td>NaN</td>\n",
              "    </tr>\n",
              "    <tr>\n",
              "      <th>184</th>\n",
              "      <td>12/5/2021</td>\n",
              "      <td>NaN</td>\n",
              "      <td>NaN</td>\n",
              "      <td>NaN</td>\n",
              "      <td>NaN</td>\n",
              "      <td>NaN</td>\n",
              "      <td>NaN</td>\n",
              "      <td>NaN</td>\n",
              "      <td>NaN</td>\n",
              "      <td>NaN</td>\n",
              "      <td>NaN</td>\n",
              "    </tr>\n",
              "  </tbody>\n",
              "</table>\n",
              "</div>"
            ],
            "text/plain": [
              "          Date  Week  Week_ID  Month  ...  Visitors  Revenue Marketing Spend  Promo\n",
              "182  10/5/2021   NaN      NaN    NaN  ...       NaN      NaN             NaN    NaN\n",
              "183  11/5/2021   NaN      NaN    NaN  ...       NaN      NaN             NaN    NaN\n",
              "184  12/5/2021   NaN      NaN    NaN  ...       NaN      NaN             NaN    NaN\n",
              "\n",
              "[3 rows x 11 columns]"
            ]
          },
          "metadata": {
            "tags": []
          },
          "execution_count": 16
        }
      ]
    },
    {
      "cell_type": "markdown",
      "metadata": {
        "id": "cLJIzuJ7ZmYv"
      },
      "source": [
        "Clean the dataset to remove null values"
      ]
    },
    {
      "cell_type": "code",
      "metadata": {
        "colab": {
          "base_uri": "https://localhost:8080/",
          "height": 335
        },
        "id": "7qWMOlkwaJ_c",
        "outputId": "c4e7d5a4-69e0-42e8-fd42-881cbc4ce229"
      },
      "source": [
        "data=raw_data.dropna()\r\n",
        "data.tail(n=10)"
      ],
      "execution_count": null,
      "outputs": [
        {
          "output_type": "execute_result",
          "data": {
            "text/html": [
              "<div>\n",
              "<style scoped>\n",
              "    .dataframe tbody tr th:only-of-type {\n",
              "        vertical-align: middle;\n",
              "    }\n",
              "\n",
              "    .dataframe tbody tr th {\n",
              "        vertical-align: top;\n",
              "    }\n",
              "\n",
              "    .dataframe thead th {\n",
              "        text-align: right;\n",
              "    }\n",
              "</style>\n",
              "<table border=\"1\" class=\"dataframe\">\n",
              "  <thead>\n",
              "    <tr style=\"text-align: right;\">\n",
              "      <th></th>\n",
              "      <th>Date</th>\n",
              "      <th>Week</th>\n",
              "      <th>Week_ID</th>\n",
              "      <th>Month</th>\n",
              "      <th>Month_ID</th>\n",
              "      <th>Year</th>\n",
              "      <th>Day_Name</th>\n",
              "      <th>Visitors</th>\n",
              "      <th>Revenue</th>\n",
              "      <th>Marketing Spend</th>\n",
              "      <th>Promo</th>\n",
              "    </tr>\n",
              "  </thead>\n",
              "  <tbody>\n",
              "    <tr>\n",
              "      <th>172</th>\n",
              "      <td>30/04/2021</td>\n",
              "      <td>18.0</td>\n",
              "      <td>59.0</td>\n",
              "      <td>4.0</td>\n",
              "      <td>16.0</td>\n",
              "      <td>2021.0</td>\n",
              "      <td>Friday</td>\n",
              "      <td>1836.0</td>\n",
              "      <td>16542.0</td>\n",
              "      <td>1916.700000</td>\n",
              "      <td>Promotion Blue</td>\n",
              "    </tr>\n",
              "    <tr>\n",
              "      <th>173</th>\n",
              "      <td>1/5/2021</td>\n",
              "      <td>18.0</td>\n",
              "      <td>59.0</td>\n",
              "      <td>5.0</td>\n",
              "      <td>17.0</td>\n",
              "      <td>2021.0</td>\n",
              "      <td>Saturday</td>\n",
              "      <td>1380.0</td>\n",
              "      <td>7445.0</td>\n",
              "      <td>805.636364</td>\n",
              "      <td>No Promo</td>\n",
              "    </tr>\n",
              "    <tr>\n",
              "      <th>174</th>\n",
              "      <td>2/5/2021</td>\n",
              "      <td>19.0</td>\n",
              "      <td>60.0</td>\n",
              "      <td>5.0</td>\n",
              "      <td>17.0</td>\n",
              "      <td>2021.0</td>\n",
              "      <td>Sunday</td>\n",
              "      <td>1423.0</td>\n",
              "      <td>12111.0</td>\n",
              "      <td>1513.875000</td>\n",
              "      <td>Promotion Red</td>\n",
              "    </tr>\n",
              "    <tr>\n",
              "      <th>175</th>\n",
              "      <td>3/5/2021</td>\n",
              "      <td>19.0</td>\n",
              "      <td>60.0</td>\n",
              "      <td>5.0</td>\n",
              "      <td>17.0</td>\n",
              "      <td>2021.0</td>\n",
              "      <td>Monday</td>\n",
              "      <td>1382.0</td>\n",
              "      <td>11273.0</td>\n",
              "      <td>1024.818182</td>\n",
              "      <td>Promotion Red</td>\n",
              "    </tr>\n",
              "    <tr>\n",
              "      <th>176</th>\n",
              "      <td>4/5/2021</td>\n",
              "      <td>19.0</td>\n",
              "      <td>60.0</td>\n",
              "      <td>5.0</td>\n",
              "      <td>17.0</td>\n",
              "      <td>2021.0</td>\n",
              "      <td>Tuesday</td>\n",
              "      <td>2152.0</td>\n",
              "      <td>3215.0</td>\n",
              "      <td>1533.888889</td>\n",
              "      <td>No Promo</td>\n",
              "    </tr>\n",
              "    <tr>\n",
              "      <th>177</th>\n",
              "      <td>5/5/2021</td>\n",
              "      <td>19.0</td>\n",
              "      <td>60.0</td>\n",
              "      <td>5.0</td>\n",
              "      <td>17.0</td>\n",
              "      <td>2021.0</td>\n",
              "      <td>Wednesday</td>\n",
              "      <td>1400.0</td>\n",
              "      <td>7284.0</td>\n",
              "      <td>1119.600000</td>\n",
              "      <td>No Promo</td>\n",
              "    </tr>\n",
              "    <tr>\n",
              "      <th>178</th>\n",
              "      <td>6/5/2021</td>\n",
              "      <td>19.0</td>\n",
              "      <td>60.0</td>\n",
              "      <td>5.0</td>\n",
              "      <td>17.0</td>\n",
              "      <td>2021.0</td>\n",
              "      <td>Thursday</td>\n",
              "      <td>2244.0</td>\n",
              "      <td>13021.0</td>\n",
              "      <td>2067.888889</td>\n",
              "      <td>Promotion Red</td>\n",
              "    </tr>\n",
              "    <tr>\n",
              "      <th>179</th>\n",
              "      <td>7/5/2021</td>\n",
              "      <td>19.0</td>\n",
              "      <td>60.0</td>\n",
              "      <td>5.0</td>\n",
              "      <td>17.0</td>\n",
              "      <td>2021.0</td>\n",
              "      <td>Friday</td>\n",
              "      <td>2023.0</td>\n",
              "      <td>4587.0</td>\n",
              "      <td>1450.200000</td>\n",
              "      <td>No Promo</td>\n",
              "    </tr>\n",
              "    <tr>\n",
              "      <th>180</th>\n",
              "      <td>8/5/2021</td>\n",
              "      <td>19.0</td>\n",
              "      <td>60.0</td>\n",
              "      <td>5.0</td>\n",
              "      <td>17.0</td>\n",
              "      <td>2021.0</td>\n",
              "      <td>Saturday</td>\n",
              "      <td>1483.0</td>\n",
              "      <td>5927.0</td>\n",
              "      <td>1121.875000</td>\n",
              "      <td>No Promo</td>\n",
              "    </tr>\n",
              "    <tr>\n",
              "      <th>181</th>\n",
              "      <td>9/5/2021</td>\n",
              "      <td>20.0</td>\n",
              "      <td>61.0</td>\n",
              "      <td>5.0</td>\n",
              "      <td>17.0</td>\n",
              "      <td>2021.0</td>\n",
              "      <td>Sunday</td>\n",
              "      <td>1303.0</td>\n",
              "      <td>3861.0</td>\n",
              "      <td>871.000000</td>\n",
              "      <td>No Promo</td>\n",
              "    </tr>\n",
              "  </tbody>\n",
              "</table>\n",
              "</div>"
            ],
            "text/plain": [
              "           Date  Week  Week_ID  ...  Revenue  Marketing Spend           Promo\n",
              "172  30/04/2021  18.0     59.0  ...  16542.0      1916.700000  Promotion Blue\n",
              "173    1/5/2021  18.0     59.0  ...   7445.0       805.636364        No Promo\n",
              "174    2/5/2021  19.0     60.0  ...  12111.0      1513.875000   Promotion Red\n",
              "175    3/5/2021  19.0     60.0  ...  11273.0      1024.818182   Promotion Red\n",
              "176    4/5/2021  19.0     60.0  ...   3215.0      1533.888889        No Promo\n",
              "177    5/5/2021  19.0     60.0  ...   7284.0      1119.600000        No Promo\n",
              "178    6/5/2021  19.0     60.0  ...  13021.0      2067.888889   Promotion Red\n",
              "179    7/5/2021  19.0     60.0  ...   4587.0      1450.200000        No Promo\n",
              "180    8/5/2021  19.0     60.0  ...   5927.0      1121.875000        No Promo\n",
              "181    9/5/2021  20.0     61.0  ...   3861.0       871.000000        No Promo\n",
              "\n",
              "[10 rows x 11 columns]"
            ]
          },
          "metadata": {
            "tags": []
          },
          "execution_count": 17
        }
      ]
    },
    {
      "cell_type": "code",
      "metadata": {
        "colab": {
          "base_uri": "https://localhost:8080/",
          "height": 281
        },
        "id": "ub-VMIgjXuHj",
        "outputId": "10991322-b2b0-4e96-a2f6-f199389069b0"
      },
      "source": [
        "plt.scatter(data[\"Marketing Spend\"],data[\"Revenue\"])"
      ],
      "execution_count": null,
      "outputs": [
        {
          "output_type": "execute_result",
          "data": {
            "text/plain": [
              "<matplotlib.collections.PathCollection at 0x7f27da3a12e8>"
            ]
          },
          "metadata": {
            "tags": []
          },
          "execution_count": 18
        },
        {
          "output_type": "display_data",
          "data": {
            "image/png": "[encoded data removed]",
            "text/plain": [
              "<Figure size 432x288 with 1 Axes>"
            ]
          },
          "metadata": {
            "tags": [],
            "needs_background": "light"
          }
        }
      ]
    },
    {
      "cell_type": "markdown",
      "metadata": {
        "id": "eFdLO8rc-9Lv"
      },
      "source": [
        "We can calculate the correlation between these two variables"
      ]
    },
    {
      "cell_type": "code",
      "metadata": {
        "colab": {
          "base_uri": "https://localhost:8080/",
          "height": 268
        },
        "id": "sUEhS8_U82cf",
        "outputId": "371b49dd-f482-4013-8063-a9e647e1a999"
      },
      "source": [
        "corr_data = pd.get_dummies(data, columns=['Promo','Day_Name'])\r\n",
        "d = corr_data[['Marketing Spend','Revenue']].corr()\r\n",
        "graph = sns.heatmap(d, annot=True)"
      ],
      "execution_count": null,
      "outputs": [
        {
          "output_type": "display_data",
          "data": {
            "image/png": "[encoded data removed]",
            "text/plain": [
              "<Figure size 432x288 with 2 Axes>"
            ]
          },
          "metadata": {
            "tags": [],
            "needs_background": "light"
          }
        }
      ]
    },
    {
      "cell_type": "code",
      "metadata": {
        "id": "gso0-e1bcs5H"
      },
      "source": [
        "b = stats.linregress(data[\"Marketing Spend\"],data[\"Revenue\"])[0]\r\n",
        "a = stats.linregress(data[\"Marketing Spend\"],data[\"Revenue\"])[1]"
      ],
      "execution_count": null,
      "outputs": []
    },
    {
      "cell_type": "code",
      "metadata": {
        "id": "M01nDyRvcvrV"
      },
      "source": [
        "def func(x):\r\n",
        "  y = a+b*x\r\n",
        "  return y"
      ],
      "execution_count": null,
      "outputs": []
    },
    {
      "cell_type": "code",
      "metadata": {
        "colab": {
          "base_uri": "https://localhost:8080/",
          "height": 382
        },
        "id": "acjb2cRzkBsC",
        "outputId": "70c81f8e-62ea-4929-dca5-b7ce8ec22d27"
      },
      "source": [
        "graph=sns.lmplot(x= \"Marketing Spend\",y = \"Revenue\",data = data)"
      ],
      "execution_count": null,
      "outputs": [
        {
          "output_type": "display_data",
          "data": {
            "image/png": "[encoded data removed]",
            "text/plain": [
              "<Figure size 360x360 with 1 Axes>"
            ]
          },
          "metadata": {
            "tags": [],
            "needs_background": "light"
          }
        }
      ]
    },
    {
      "cell_type": "code",
      "metadata": {
        "colab": {
          "base_uri": "https://localhost:8080/"
        },
        "id": "opshfzWIMMyW",
        "outputId": "a6e449ad-e12c-47e0-cd98-be06a4dc02e8"
      },
      "source": [
        "def sumOfSquaredError(data):\r\n",
        "    val = func(data[\"Visitors\"])\r\n",
        "    return np.sum((val - data[\"Revenue\"]) ** 2.0)\r\n",
        "\r\n",
        "sumOfSquaredError(data)"
      ],
      "execution_count": null,
      "outputs": [
        {
          "output_type": "execute_result",
          "data": {
            "text/plain": [
              "5503362737.324943"
            ]
          },
          "metadata": {
            "tags": []
          },
          "execution_count": 23
        }
      ]
    },
    {
      "cell_type": "markdown",
      "metadata": {
        "id": "nzFcTFzFmn42"
      },
      "source": [
        "# Non-Linear Regression"
      ]
    },
    {
      "cell_type": "markdown",
      "metadata": {
        "id": "93ZdDRaBLs2c"
      },
      "source": [
        "Sample data columns with a nonlinear relationship"
      ]
    },
    {
      "cell_type": "code",
      "metadata": {
        "id": "XCJp-tGHLqp4"
      },
      "source": [
        "xData = np.array([19.1647, 18.0189, 16.9550, 15.7683, 14.7044, 13.6269, 12.6040, 11.4309, 10.2987, 9.23465, 8.18440, 7.89789, 7.62498, 7.36571, 7.01106, 6.71094, 6.46548, 6.27436, 6.16543, 6.05569, 5.91904, 5.78247, 5.53661, 4.85425, 4.29468, 3.74888, 3.16206, 2.58882, 1.93371, 1.52426, 1.14211, 0.719035, 0.377708, 0.0226971, -0.223181, -0.537231, -0.878491, -1.27484, -1.45266, -1.57583, -1.61717])\r\n",
        "yData = np.array([0.644557, 0.641059, 0.637555, 0.634059, 0.634135, 0.631825, 0.631899, 0.627209, 0.622516, 0.617818, 0.616103, 0.613736, 0.610175, 0.606613, 0.605445, 0.603676, 0.604887, 0.600127, 0.604909, 0.588207, 0.581056, 0.576292, 0.566761, 0.555472, 0.545367, 0.538842, 0.529336, 0.518635, 0.506747, 0.499018, 0.491885, 0.484754, 0.475230, 0.464514, 0.454387, 0.444861, 0.437128, 0.415076, 0.401363, 0.390034, 0.378698])\r\n"
      ],
      "execution_count": null,
      "outputs": []
    },
    {
      "cell_type": "code",
      "metadata": {
        "colab": {
          "base_uri": "https://localhost:8080/",
          "height": 265
        },
        "id": "ui79zNqYsjy5",
        "outputId": "22893e28-e4a3-460a-d4ec-053c45801cb3"
      },
      "source": [
        "plt.scatter(xData, yData)\r\n",
        "plt.show()"
      ],
      "execution_count": null,
      "outputs": [
        {
          "output_type": "display_data",
          "data": {
            "image/png": "[encoded data removed]",
            "text/plain": [
              "<Figure size 432x288 with 1 Axes>"
            ]
          },
          "metadata": {
            "tags": [],
            "needs_background": "light"
          }
        }
      ]
    },
    {
      "cell_type": "markdown",
      "metadata": {
        "id": "5q6jlfbzT52G"
      },
      "source": [
        "Create an Augmented matrix to help is solving for values"
      ]
    },
    {
      "cell_type": "code",
      "metadata": {
        "colab": {
          "base_uri": "https://localhost:8080/"
        },
        "id": "6XB74FjMJdIs",
        "outputId": "ed102dab-b54f-4034-a9d5-8bd4df23b8f0"
      },
      "source": [
        "M = np.column_stack([np.ones(len(xData)),xData,xData**2])\r\n",
        "print(M.shape)"
      ],
      "execution_count": null,
      "outputs": [
        {
          "output_type": "stream",
          "text": [
            "(41, 3)\n"
          ],
          "name": "stdout"
        }
      ]
    },
    {
      "cell_type": "markdown",
      "metadata": {
        "id": "VI74Jvj8ULP6"
      },
      "source": [
        "Use the scipy library to solve our matrix against corresponding values. The Gauss-Jordan fucntion written in previous parts can also be used."
      ]
    },
    {
      "cell_type": "code",
      "metadata": {
        "colab": {
          "base_uri": "https://localhost:8080/"
        },
        "id": "WxMxqL_9QmhE",
        "outputId": "00fbf923-5978-46a6-85c4-a1e6a071d4d5"
      },
      "source": [
        "array = la.solve((M.T @ M),M.T @ yData)\r\n",
        "array"
      ],
      "execution_count": null,
      "outputs": [
        {
          "output_type": "execute_result",
          "data": {
            "text/plain": [
              "array([ 0.45395542,  0.02748129, -0.00097756])"
            ]
          },
          "metadata": {
            "tags": []
          },
          "execution_count": 27
        }
      ]
    },
    {
      "cell_type": "markdown",
      "metadata": {
        "id": "lsExfEvYUgJL"
      },
      "source": [
        "Finally, we graph our results and observe the outcome"
      ]
    },
    {
      "cell_type": "code",
      "metadata": {
        "colab": {
          "base_uri": "https://localhost:8080/",
          "height": 265
        },
        "id": "ja6ZCoKXUmc0",
        "outputId": "9e98694b-9570-4817-c077-749d99e12739"
      },
      "source": [
        "xs = np.linspace(-2,20,20)\r\n",
        "ys = array[0] + array[1]*xs + array[2]*xs**2\r\n",
        "plt.plot(xs,ys,'r',linewidth=2)\r\n",
        "plt.scatter(xData,yData,alpha=0.5,lw=0)\r\n",
        "plt.show()"
      ],
      "execution_count": null,
      "outputs": [
        {
          "output_type": "display_data",
          "data": {
            "image/png": "[encoded data removed]",
            "text/plain": [
              "<Figure size 432x288 with 1 Axes>"
            ]
          },
          "metadata": {
            "tags": [],
            "needs_background": "light"
          }
        }
      ]
    },
    {
      "cell_type": "markdown",
      "metadata": {
        "id": "wQk2fX8kQdD6"
      },
      "source": [
        "The dataset used for performing the linear regression provides two variables, i.e., \"Marketing Spend\" and \"Revenue.\" The aim was to find the relationship between the amounts spent on the market and the revenue earned in return. This makes 'Revenue' our dependent variable and ‘Marketing Spend’ our independent variable. Performing an initial plot of these variables in a scatter chart shows the dispersion of data. As such, we are performing linear regression, which allows us to predict the revenue by drawing a line of best fit was necessary. Performing Linear regression thus shows the relationship between x and y values on the graph. Linear regression allows us to get a slope which is a crucial value determining how y (Revenue) changes with an increase in x (Marketing Spend). The intercept shows the value of y when x is equal to zero.\n",
        "\n",
        "Regression calculates the distance that minimizes the distance between the fitted line and all the data points present in the plot. By doing so, the line of best fit describes the ideal position of variables that accurately describe the behavior of dependent variables. Since the model fit shows the difference between the predicted values and the observed values, they predict values y can take under certain circumstances.  The fit of our linear regression maps out the majority of the points of the graph. The difference in predicted values and observed values is thus not significant. The line of fit exhibits a logarithmic relationship between the x and y data variables. The “NumPy” and “sklearn” library tools were instrumental in plotting the model fit curve. Proper presentation data requires adequate analysis of variable data relationships through correlations. The ‘scipy’ library was also instrumental in creating and solving the temporary matrix created to solve linear systems of equations.\n",
        "\n",
        "\n",
        "\t"
      ]
    }
  ]
}