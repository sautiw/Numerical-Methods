{
  "nbformat": 4,
  "nbformat_minor": 0,
  "metadata": {
    "colab": {
      "name": "Project5.ipynb",
      "provenance": [],
      "collapsed_sections": [],
      "toc_visible": true,
      "include_colab_link": true
    },
    "kernelspec": {
      "name": "python3",
      "display_name": "Python 3"
    }
  },
  "cells": [
    {
      "cell_type": "markdown",
      "metadata": {
        "id": "view-in-github",
        "colab_type": "text"
      },
      "source": [
        "<a href=\"https://colab.research.google.com/github/sautiw/Numerical-Methods/blob/main/Project5.ipynb\" target=\"_parent\"><img src=\"https://colab.research.google.com/assets/colab-badge.svg\" alt=\"Open In Colab\"/></a>"
      ]
    },
    {
      "cell_type": "markdown",
      "metadata": {
        "id": "YCJaepmmfKrS"
      },
      "source": [
        "## Project Part 5\n",
        "Saurabh Tiwari\n",
        "\n",
        "Salin Giri\n",
        "\n",
        "Rahul Gauli\n",
        "\n"
      ]
    },
    {
      "cell_type": "markdown",
      "metadata": {
        "id": "ce2Jp6x9Phjp"
      },
      "source": [
        "Gauss-Jordan algorithm from previous project"
      ]
    },
    {
      "cell_type": "code",
      "metadata": {
        "id": "rU_BgC_kfH7g"
      },
      "source": [
        "import math\n",
        "import numpy as np\n",
        "import scipy.linalg as la\n",
        "\n",
        "def addRows(matrix,targetRow, modifierRow, value):\n",
        "  newRow = matrix[targetRow,:]+value*matrix[modifierRow,:]\n",
        "  newMatrix = []\n",
        "  for i in range(len(matrix)):\n",
        "    if i != targetRow:\n",
        "      newMatrix.append(matrix[i,:])\n",
        "    else:\n",
        "      newMatrix.append(newRow)\n",
        "  return np.array(newMatrix)\n",
        "\n",
        "\n",
        "def changeToLeadingOne(matrix,row,column):\n",
        "  newMatrix =[]\n",
        "  for i in range(len(matrix)):\n",
        "    if i != row:\n",
        "      newMatrix.append(matrix[i,:])\n",
        "    else:\n",
        "      newMatrix.append(1/matrix[row,column]*matrix[row,:])\n",
        "  return np.array(newMatrix)\n",
        "\n",
        "\n",
        "def gaussJordan(matrix):\n",
        "  newMatrix = matrix\n",
        "  for pivot in range(len(matrix)):\n",
        "    newMatrix = changeToLeadingOne(newMatrix,pivot,pivot)\n",
        "    for column in range(0,pivot):\n",
        "      newMatrix = addRows(newMatrix,column,pivot,-newMatrix[column,pivot])\n",
        "    for column in range(pivot+1,len(matrix)):\n",
        "      newMatrix = addRows(newMatrix,column,pivot,-newMatrix[column,pivot])\n",
        "  return newMatrix"
      ],
      "execution_count": null,
      "outputs": []
    },
    {
      "cell_type": "markdown",
      "metadata": {
        "id": "_7RoPTU_hXG1"
      },
      "source": [
        "## Direct Method"
      ]
    },
    {
      "cell_type": "markdown",
      "metadata": {
        "id": "bptTQP5xa5A3"
      },
      "source": [
        "Polynomial interpolation is a procedure that finds a unique polynomial of a degree n passing through the point n+1 in an x and y plane. The x-y plane relies on points sharing some relationship which in turn lead to the formation of shapes such as a curve, a parabola, and even a basic straight line. Graphs are plotted through the connection of different points on the x-y plane. Interpolation is a method used in statistics to estimate an unknown variable based on known values. Using the Gauss-Jordan elimination algorithm to solve linear systems, we can apply this algorithm in solving polynomials of a certain degree. The first steps involve creating an augmented matrix from the polynomial function under evaluation. Doing so allows us to create a linear system whose matrix values can be easily solved then corresponding x and y values can be plotted on a graph. The direct spline method is simple and efficient when provided with minimal data values for interpolation. These values can be simple data points associated with a function chosen for evaluation. However, this method fails when it comes to interpolating many points from noisy data. The linear spline is an improvement that can spline such complex functions. Linear Splines rely on chosen intervals for several points intended to be plotted. These intervals are easy to define based on the nature of the function used."
      ]
    },
    {
      "cell_type": "markdown",
      "metadata": {
        "id": "fP-jdD-iAfVs"
      },
      "source": [
        "Create an augmented matrix M"
      ]
    },
    {
      "cell_type": "markdown",
      "metadata": {
        "id": "Kv1NWrWm_91d"
      },
      "source": [
        "The points $(1,1)$,$(2,5)$,$(3,2)$,$(3.2,7)$ and $(3.9,4)$ are used for this example.  "
      ]
    },
    {
      "cell_type": "code",
      "metadata": {
        "id": "kferdtSXV7ER"
      },
      "source": [
        "N = 5\r\n",
        "x = np.array([1,2,3,3.2,3.9])\r\n",
        "y = np.array([1,5,2,7,4])"
      ],
      "execution_count": null,
      "outputs": []
    },
    {
      "cell_type": "markdown",
      "metadata": {
        "id": "lU8AedccAoRu"
      },
      "source": [
        "Next add the vector y values"
      ]
    },
    {
      "cell_type": "code",
      "metadata": {
        "colab": {
          "base_uri": "https://localhost:8080/"
        },
        "id": "etieH7llV-8U",
        "outputId": "7381c6c0-9997-4881-a285-7722899f4845"
      },
      "source": [
        "M = np.column_stack([x**k for k in range(0,N)])\r\n",
        "print(M[:5,:5])"
      ],
      "execution_count": null,
      "outputs": [
        {
          "output_type": "stream",
          "text": [
            "[[  1.       1.       1.       1.       1.    ]\n",
            " [  1.       2.       4.       8.      16.    ]\n",
            " [  1.       3.       9.      27.      81.    ]\n",
            " [  1.       3.2     10.24    32.768  104.8576]\n",
            " [  1.       3.9     15.21    59.319  231.3441]]\n"
          ],
          "name": "stdout"
        }
      ]
    },
    {
      "cell_type": "markdown",
      "metadata": {
        "id": "hIUAUFPRA0PC"
      },
      "source": [
        "Compute the vector a of coeficients using the gauss-jordan function and solve"
      ]
    },
    {
      "cell_type": "code",
      "metadata": {
        "colab": {
          "base_uri": "https://localhost:8080/"
        },
        "id": "4xevLHC-A4Yg",
        "outputId": "2fd4291a-0bc4-43db-f56f-72ddf6d47a18"
      },
      "source": [
        "gaussJordan(M)"
      ],
      "execution_count": null,
      "outputs": [
        {
          "output_type": "execute_result",
          "data": {
            "text/plain": [
              "array([[1., 0., 0., 0., 0.],\n",
              "       [0., 1., 0., 0., 0.],\n",
              "       [0., 0., 1., 0., 0.],\n",
              "       [0., 0., 0., 1., 0.],\n",
              "       [0., 0., 0., 0., 1.]])"
            ]
          },
          "metadata": {
            "tags": []
          },
          "execution_count": 220
        }
      ]
    },
    {
      "cell_type": "markdown",
      "metadata": {
        "id": "l3Rs2OOBKsYO"
      },
      "source": [
        "Solve the polynomial to get plot variables"
      ]
    },
    {
      "cell_type": "code",
      "metadata": {
        "colab": {
          "base_uri": "https://localhost:8080/"
        },
        "id": "J4Z4JLpGX8I9",
        "outputId": "ce4dfa1c-06d9-42bd-98a4-76df26c324fb"
      },
      "source": [
        "X = la.solve(M,y)\r\n",
        "print(X)"
      ],
      "execution_count": null,
      "outputs": [
        {
          "output_type": "stream",
          "text": [
            "[-358.62779991  739.72783579 -509.9353936   144.18150261  -14.34614488]\n"
          ],
          "name": "stdout"
        }
      ]
    },
    {
      "cell_type": "code",
      "metadata": {
        "id": "MNEpowDVgpCk"
      },
      "source": [
        "data =[[1,1],[2,5],[3,2],[3.2,7],[3.9,4]]"
      ],
      "execution_count": null,
      "outputs": []
    },
    {
      "cell_type": "markdown",
      "metadata": {
        "id": "J5HEZ3ynb2sk"
      },
      "source": [
        "Use a direct spline function"
      ]
    },
    {
      "cell_type": "code",
      "metadata": {
        "id": "4agbl2zmYRuX"
      },
      "source": [
        "def direct_spline(data, v):\r\n",
        "  c = la.solve(M,y)\r\n",
        "  val = 0\r\n",
        "  for i in range(len(c)):\r\n",
        "    val = val + c[i]*v**i\r\n",
        "  return val\r\n"
      ],
      "execution_count": null,
      "outputs": []
    },
    {
      "cell_type": "code",
      "metadata": {
        "colab": {
          "base_uri": "https://localhost:8080/"
        },
        "id": "djOXl1aaYfVQ",
        "outputId": "dc378cd9-5a97-44fb-eb9c-1d89aa4649b6"
      },
      "source": [
        "direct_spline(data,2)"
      ],
      "execution_count": null,
      "outputs": [
        {
          "output_type": "execute_result",
          "data": {
            "text/plain": [
              "4.999999999999972"
            ]
          },
          "metadata": {
            "tags": []
          },
          "execution_count": 224
        }
      ]
    },
    {
      "cell_type": "code",
      "metadata": {
        "colab": {
          "base_uri": "https://localhost:8080/",
          "height": 281
        },
        "id": "9HC7RnDbWEzE",
        "outputId": "39e24eee-515e-4aba-af13-42b3734c12c4"
      },
      "source": [
        "x = np.arange( 0,5,.1)\r\n",
        "\r\n",
        "plt.scatter(np.array(data)[:,0],np.array(data)[:,1])\r\n",
        "plt.plot(x,direct_spline(data,x))\r\n",
        "plt.grid(alpha=.4,linestyle='--')\r\n",
        "plt.title('Graph of Direct Spline')\r\n",
        "\r\n",
        "plt.show()"
      ],
      "execution_count": null,
      "outputs": [
        {
          "output_type": "display_data",
          "data": {
            "image/png": "[encoded data removed]",
            "text/plain": [
              "<Figure size 432x288 with 1 Axes>"
            ]
          },
          "metadata": {
            "tags": [],
            "needs_background": "light"
          }
        }
      ]
    },
    {
      "cell_type": "markdown",
      "metadata": {
        "id": "-wYcHlRGK3W6"
      },
      "source": [
        "The above technique only works for 5 or more unique points. This is possible through altering value of N forming the matrix on first cell.\r\n",
        "\r\n"
      ]
    },
    {
      "cell_type": "markdown",
      "metadata": {
        "id": "vFv8xmzbG9gM"
      },
      "source": [
        "##Linear Splines"
      ]
    },
    {
      "cell_type": "markdown",
      "metadata": {
        "id": "8xBcwjOkmzaO"
      },
      "source": [
        "The function considered for this project is $f(x) = \\cos x$ with an interval of between 0 and $2\\pi$."
      ]
    },
    {
      "cell_type": "markdown",
      "metadata": {
        "id": "0ZH3G9Mze3OM"
      },
      "source": [
        "Evenly distribute points based on interval chosen\r\n"
      ]
    },
    {
      "cell_type": "code",
      "metadata": {
        "id": "jw4nEp3MeksZ"
      },
      "source": [
        "fn = np.cos\r\n",
        "N=7\r\n",
        "lower_limit=0\r\n",
        "upper_limit=2*np.pi\r\n",
        "\r\n",
        "arr=[]\r\n",
        "a=(upper_limit-lower_limit);\r\n",
        "d=a/(N-1)\r\n",
        "for k in range(N):\r\n",
        "  arr.append([lower_limit + k*d,fn(lower_limit+k*d)])\r\n",
        "M=np.array(arr)\r\n"
      ],
      "execution_count": null,
      "outputs": []
    },
    {
      "cell_type": "code",
      "metadata": {
        "id": "8eYIPHzxoJEV"
      },
      "source": [
        "def slope(pointInitial,pointFinal):\n",
        "  return (pointFinal[1]-pointInitial[1])/(pointFinal[0]-pointInitial[0])"
      ],
      "execution_count": null,
      "outputs": []
    },
    {
      "cell_type": "markdown",
      "metadata": {
        "id": "3UErP7j2f-5K"
      },
      "source": [
        "Define the spline algorithm to aid in estimating the chosen function $f(x) = \\cos x$"
      ]
    },
    {
      "cell_type": "code",
      "metadata": {
        "id": "xdBxIY0t1v8r"
      },
      "source": [
        "def linerSpline(arr,input):\n",
        "  x = arr[:,0]\n",
        "  y = arr[:,1]\n",
        "  for i in range(len(x)-1):\n",
        "    if (x[i]< input) & (input < x[i+1]):\n",
        "      return y[i]+ slope(arr[i,:],arr[i+1,:])*(input - x[i])\n",
        "    else:\n",
        "      continue"
      ],
      "execution_count": null,
      "outputs": []
    },
    {
      "cell_type": "code",
      "metadata": {
        "id": "f2PUNg9X3SQi",
        "colab": {
          "base_uri": "https://localhost:8080/"
        },
        "outputId": "fd61658a-59d5-4b4d-94c7-99f3c959ce5a"
      },
      "source": [
        "linerSpline(M,1)"
      ],
      "execution_count": null,
      "outputs": [
        {
          "output_type": "execute_result",
          "data": {
            "text/plain": [
              "0.522535170724314"
            ]
          },
          "metadata": {
            "tags": []
          },
          "execution_count": 249
        }
      ]
    },
    {
      "cell_type": "code",
      "metadata": {
        "id": "J3we4y-q3bVQ",
        "colab": {
          "base_uri": "https://localhost:8080/",
          "height": 281
        },
        "outputId": "2edc9734-adf5-434a-f5e4-ec09a2b82560"
      },
      "source": [
        "x = np.arange(0,6.5,0.1)\n",
        "y = [linerSpline(M,x) for x in x]\n",
        "\n",
        "plt.scatter(M[:,0],M[:,1])\n",
        "plt.plot(x,y)\n",
        "plt.plot(x, np.cos(x))\n",
        "plt.title('7-Point Spline')\n",
        "plt.grid(alpha=.4,linestyle='--')\n",
        "plt.legend(['Spline','Cos x'])\n",
        "\n",
        "\n",
        "plt.show()"
      ],
      "execution_count": null,
      "outputs": [
        {
          "output_type": "display_data",
          "data": {
            "image/png": "[encoded data removed]",
            "text/plain": [
              "<Figure size 432x288 with 1 Axes>"
            ]
          },
          "metadata": {
            "tags": [],
            "needs_background": "light"
          }
        }
      ]
    },
    {
      "cell_type": "markdown",
      "metadata": {
        "id": "bH0LaAttqLoD"
      },
      "source": [
        "For 24 points"
      ]
    },
    {
      "cell_type": "code",
      "metadata": {
        "id": "waEO7pJgqBDA"
      },
      "source": [
        "fn = np.cos\r\n",
        "N=24\r\n",
        "lower_limit=0\r\n",
        "upper_limit=2*np.pi\r\n",
        "\r\n",
        "arr=[]\r\n",
        "a=(upper_limit-lower_limit);\r\n",
        "d=a/(N-1)\r\n",
        "for k in range(N):\r\n",
        "  arr.append([lower_limit + k*d,fn(lower_limit+k*d)])\r\n",
        "M=np.array(arr)"
      ],
      "execution_count": null,
      "outputs": []
    },
    {
      "cell_type": "code",
      "metadata": {
        "id": "3WpiVWezYZj4",
        "colab": {
          "base_uri": "https://localhost:8080/",
          "height": 281
        },
        "outputId": "b8d8634f-6f3e-4ffa-a27a-50f4d49c3eaa"
      },
      "source": [
        "x = np.arange(0,6.5,0.1)\n",
        "y = [linerSpline(twentypoints,x) for x in x]\n",
        "plt.scatter(twentypoints[:,0],twentypoints[:,1])\n",
        "plt.plot(x,y)\n",
        "plt.plot(x, np.cos(x))\n",
        "plt.title('24-Point Spline')\n",
        "plt.grid(alpha=.4,linestyle='--')\n",
        "plt.legend(['Spline','Cos x'])\n",
        "\n",
        "plt.show()"
      ],
      "execution_count": null,
      "outputs": [
        {
          "output_type": "display_data",
          "data": {
            "image/png": "[encoded data removed]",
            "text/plain": [
              "<Figure size 432x288 with 1 Axes>"
            ]
          },
          "metadata": {
            "tags": [],
            "needs_background": "light"
          }
        }
      ]
    },
    {
      "cell_type": "markdown",
      "metadata": {
        "id": "tE4cqcLVbCdG"
      },
      "source": [
        "The splines created here work with defined intervals that aid in correctly plotting the graphs created. The interval chosen is based on the function been a Cosine. Such functions return different points forming a curve when evaluated. As such, the splines created rely on a relatively guessed interval based on the nature of the function. Though these splines can interpolate a large number of points, they greatly rely on the programmer choosing a sufficient enough interval for which the different points are to lie. For a point that lies midway between two of my chosen points, the point would be ignored by the spline if it does not lie in the path between the two chosen points. The position of the point based on the path chosen for interpolation greatly matters.\n",
        "\n",
        "For linear splines, the interval chosen determines the boundaries for the points generated through our spline algorithm. As such, points returned through evaluation of the function must lie within chosen boundaries. These boundaries form the window in which the plotted graph appears. In the case where a point might appear far outside the chosen window, this would likely mean that there is an error in the evaluation of the function chosen. Furthermore, the interval chosen for the case might not be the best one to give correct results. However, if a point is still within the interval but the chosen window is not big enough to include it on the plot, the best solution for this would be to adjust the window size based on the point. Adjusting the window size based on the chosen points allows for the creation of a large enough window to hold all these points and perform a successful interpolation."
      ]
    }
  ]
}