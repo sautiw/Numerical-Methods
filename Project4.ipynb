{
  "nbformat": 4,
  "nbformat_minor": 0,
  "metadata": {
    "colab": {
      "name": "Project4.ipynb",
      "provenance": [],
      "collapsed_sections": [],
      "include_colab_link": true
    },
    "kernelspec": {
      "name": "python3",
      "display_name": "Python 3"
    }
  },
  "cells": [
    {
      "cell_type": "markdown",
      "metadata": {
        "id": "view-in-github",
        "colab_type": "text"
      },
      "source": [
        "<a href=\"https://colab.research.google.com/github/sautiw/Numerical-Methods/blob/main/Project4.ipynb\" target=\"_parent\"><img src=\"https://colab.research.google.com/assets/colab-badge.svg\" alt=\"Open In Colab\"/></a>"
      ]
    },
    {
      "cell_type": "code",
      "metadata": {
        "id": "xWoiQy16KAiR"
      },
      "source": [
        "import math\r\n",
        "import numpy as np"
      ],
      "execution_count": null,
      "outputs": []
    },
    {
      "cell_type": "markdown",
      "metadata": {
        "id": "H1UgIKzqVcEw"
      },
      "source": [
        "## **Gauss-Jordan Method**"
      ]
    },
    {
      "cell_type": "markdown",
      "metadata": {
        "id": "UUiD0LDAWL9J"
      },
      "source": [
        "Gauss-Jordan is an algorithm used in solving different systems of linear equations categorizing equations with both two and three unknowns. The algorithm relies on the fundamental row operations of matrices and arithmetic operations on rows that allow for finding the inverse of invertible matrices. A reduced-row echelon form is a form a matrix takes when evaluated using the Gauss-Jordan elimination algorithm. This allows for matrices to essentially be solved since they follow a set of rules that dictate when a matrix is in the Reduced-row echelon form. The procedure to perform the Gauss-Jordan Elimination is:\n",
        "1.\tSwitch the rows so that rows with zeros are at the bottom.\n",
        "2.\tMove the largest leftmost entity to the top of the row.\n",
        "3.\tChange the top row to one by multiplying it by a scalar value.\n",
        "4.\tAdd or subtract multiples of the top row to the other rows so that all other entries in the column containing the top row's leading entry are all zero.\n",
        "5.\tRepeat steps two to four to convert the subsequent leftmost matrix entry to one.\n",
        "6.\tSwitch rows to ensure the leading entry of each row is to the right of the leading entry of the row above it.\n",
        "\n",
        "\n",
        "Using the inverse of a matrix often helps in solving the systems of linear equations. The inverse is obtained using the “hstack” function contained in the NumPy library. The algorithm works best for linear equations that take the form Ax=b where there is a unique solution for the value of x. Such systems can also be solved using the library “scipy.linalg” which provides different functions to efficiently evaluate such equations.\n"
      ]
    },
    {
      "cell_type": "code",
      "metadata": {
        "id": "ajB49rCVKRog"
      },
      "source": [
        "A = np.array([[6,15,1,2],[8,7,12,14],[2,7,8,10]])"
      ],
      "execution_count": null,
      "outputs": []
    },
    {
      "cell_type": "markdown",
      "metadata": {
        "id": "BbIlOzMZRpv4"
      },
      "source": [
        "Find Inverse of matrix for solution solving system further on."
      ]
    },
    {
      "cell_type": "code",
      "metadata": {
        "colab": {
          "base_uri": "https://localhost:8080/"
        },
        "id": "flnl1UHBFXNt",
        "outputId": "24a23c5b-ef65-49c9-e12a-59de72ecb958"
      },
      "source": [
        "M = np.hstack([A])\r\n",
        "print(M)"
      ],
      "execution_count": null,
      "outputs": [
        {
          "output_type": "stream",
          "text": [
            "[[ 6 15  1  2]\n",
            " [ 8  7 12 14]\n",
            " [ 2  7  8 10]]\n"
          ],
          "name": "stdout"
        }
      ]
    },
    {
      "cell_type": "markdown",
      "metadata": {
        "id": "r9RgwGXDKpxS"
      },
      "source": [
        "Function for Swapping rows"
      ]
    },
    {
      "cell_type": "code",
      "metadata": {
        "id": "Ua94wPSzKsZx"
      },
      "source": [
        "def swapRows(matrix,row1,row2):\r\n",
        "  newMatrix = []\r\n",
        "  for i in range(len(matrix)):\r\n",
        "    if i == row1:\r\n",
        "      newMatrix.append(matrix[row2,:])\r\n",
        "    elif i == row2:\r\n",
        "      newMatrix.append(matrix[row1,:])\r\n",
        "    else:\r\n",
        "      newMatrix.append(matrix[i,:])\r\n",
        "  return np.array(newMatrix)\r\n"
      ],
      "execution_count": null,
      "outputs": []
    },
    {
      "cell_type": "code",
      "metadata": {
        "colab": {
          "base_uri": "https://localhost:8080/"
        },
        "id": "yiQYn00iKvre",
        "outputId": "76fa6135-6709-4660-9634-237f2d118a87"
      },
      "source": [
        "\r\n",
        "swapRows(A,0,1)"
      ],
      "execution_count": null,
      "outputs": [
        {
          "output_type": "execute_result",
          "data": {
            "text/plain": [
              "array([[ 8,  7, 12, 14],\n",
              "       [ 6, 15,  1,  2],\n",
              "       [ 2,  7,  8, 10]])"
            ]
          },
          "metadata": {
            "tags": []
          },
          "execution_count": 5
        }
      ]
    },
    {
      "cell_type": "markdown",
      "metadata": {
        "id": "SFvf9FJTK0Tp"
      },
      "source": [
        "Function for adding rows"
      ]
    },
    {
      "cell_type": "code",
      "metadata": {
        "id": "Fe6JQZyBK4C7"
      },
      "source": [
        "def addRows(matrix,targetRow, modifierRow, value):\r\n",
        "  newRow = matrix[targetRow,:]+value*matrix[modifierRow,:]\r\n",
        "  newMatrix = []\r\n",
        "  for i in range(len(matrix)):\r\n",
        "    if i != targetRow:\r\n",
        "      newMatrix.append(matrix[i,:])\r\n",
        "    else:\r\n",
        "      newMatrix.append(newRow)\r\n",
        "  return np.array(newMatrix)"
      ],
      "execution_count": null,
      "outputs": []
    },
    {
      "cell_type": "code",
      "metadata": {
        "colab": {
          "base_uri": "https://localhost:8080/"
        },
        "id": "tctBKH1CK6QJ",
        "outputId": "498aa6b5-ed10-4e16-c317-eab9b0efb766"
      },
      "source": [
        "addRows(M,0,1,2)"
      ],
      "execution_count": null,
      "outputs": [
        {
          "output_type": "execute_result",
          "data": {
            "text/plain": [
              "array([[22, 29, 25, 30],\n",
              "       [ 8,  7, 12, 14],\n",
              "       [ 2,  7,  8, 10]])"
            ]
          },
          "metadata": {
            "tags": []
          },
          "execution_count": 7
        }
      ]
    },
    {
      "cell_type": "code",
      "metadata": {
        "id": "1lYQvDYGwVPq"
      },
      "source": [
        "def changeToLeadingOne(matrix,row,column):\r\n",
        "  newMatrix =[]\r\n",
        "  for i in range(len(matrix)):\r\n",
        "    if i != row:\r\n",
        "      newMatrix.append(matrix[i,:])\r\n",
        "    else:\r\n",
        "      newMatrix.append(1/matrix[row,column]*matrix[row,:])\r\n",
        "  return np.array(newMatrix)\r\n"
      ],
      "execution_count": null,
      "outputs": []
    },
    {
      "cell_type": "code",
      "metadata": {
        "colab": {
          "base_uri": "https://localhost:8080/"
        },
        "id": "Az91mhuJwWXX",
        "outputId": "d35539cf-c901-4e70-e4d3-e62d8e8a3737"
      },
      "source": [
        "changeToLeadingOne(M,3,1)"
      ],
      "execution_count": null,
      "outputs": [
        {
          "output_type": "execute_result",
          "data": {
            "text/plain": [
              "array([[ 6, 15,  1,  2],\n",
              "       [ 8,  7, 12, 14],\n",
              "       [ 2,  7,  8, 10]])"
            ]
          },
          "metadata": {
            "tags": []
          },
          "execution_count": 9
        }
      ]
    },
    {
      "cell_type": "code",
      "metadata": {
        "id": "AJyVsqmEG62Z"
      },
      "source": [
        "def findLargestPivot(matrix, column):\r\n",
        "  vec = matrix[column:,column]\r\n",
        "  vec = np.abs(vec)\r\n",
        "  row = np.where(vec == max(vec))\r\n",
        "  return row[0][0]+column"
      ],
      "execution_count": null,
      "outputs": []
    },
    {
      "cell_type": "code",
      "metadata": {
        "id": "ByrVYYXEFzMA"
      },
      "source": [
        "np.abs(A)\r\n",
        "def gaussJordan(matrix):\r\n",
        "  newMatrix = matrix\r\n",
        "  for pivot in range(len(matrix)):\r\n",
        "    newpivot = findLargestPivot(newMatrix,pivot)\r\n",
        "    newMatrix = swapRows(newMatrix,newpivot,pivot)\r\n",
        "    newMatrix = changeToLeadingOne(newMatrix,pivot,pivot)\r\n",
        "    for column in range(0,pivot):\r\n",
        "      newMatrix = addRows(newMatrix,column,pivot,-newMatrix[column,pivot])\r\n",
        "    for column in range(pivot+1,len(matrix)):\r\n",
        "      newMatrix = addRows(newMatrix,column,pivot,-newMatrix[column,pivot])\r\n",
        "  return newMatrix"
      ],
      "execution_count": null,
      "outputs": []
    },
    {
      "cell_type": "code",
      "metadata": {
        "colab": {
          "base_uri": "https://localhost:8080/"
        },
        "id": "K8ahOVDKF-iN",
        "outputId": "a17a0e24-4106-4fa2-eb92-527a8d4be540"
      },
      "source": [
        "gaussJordan(A)"
      ],
      "execution_count": null,
      "outputs": [
        {
          "output_type": "execute_result",
          "data": {
            "text/plain": [
              "array([[ 1.        ,  0.        ,  0.        , -0.12672176],\n",
              "       [ 0.        ,  1.        ,  0.        ,  0.1046832 ],\n",
              "       [ 0.        ,  0.        ,  1.        ,  1.19008264]])"
            ]
          },
          "metadata": {
            "tags": []
          },
          "execution_count": 12
        }
      ]
    },
    {
      "cell_type": "markdown",
      "metadata": {
        "id": "-y-7WJpeTe19"
      },
      "source": [
        "Support function to sscale rows"
      ]
    },
    {
      "cell_type": "code",
      "metadata": {
        "id": "sm95p2_gMR4o"
      },
      "source": [
        "def scale_row(A,k,i):\r\n",
        "    \"Multiply row i by k in matrix A.\"\r\n",
        "    n = A.shape[0]\r\n",
        "    E = np.eye(n)\r\n",
        "    E[i,i] = k\r\n",
        "    return E @ A"
      ],
      "execution_count": null,
      "outputs": []
    },
    {
      "cell_type": "markdown",
      "metadata": {
        "id": "h9jss9vZUDZ_"
      },
      "source": [
        "This function is designed to solve a system of at least three equations and three unknowns. "
      ]
    },
    {
      "cell_type": "code",
      "metadata": {
        "id": "w6dGhBYuHz1B"
      },
      "source": [
        "def gaussElimination(M):\r\n",
        "  M1 = scale_row(M,1/6,0)\r\n",
        "  M2 = addRows(M1,1,0,-8)\r\n",
        "  M3 = addRows(M2,2,0,-2)\r\n",
        "  M4 = scale_row(M3,-1/13,1)\r\n",
        "  M5 = addRows(M4,2,1,-2)\r\n",
        "  M6 = scale_row(M5,1/M5[2,2],2)\r\n",
        "  M7 = addRows(M6,1,2,-M6[1,2])\r\n",
        "  M8 = addRows(M7,0,2,-M7[0,2])\r\n",
        "  M9 = addRows(M8,0,1,-M8[0,1])\r\n",
        "  \r\n",
        "  x = M9[:,3].reshape(3,1)\r\n",
        "\r\n",
        "  return x"
      ],
      "execution_count": null,
      "outputs": []
    },
    {
      "cell_type": "code",
      "metadata": {
        "colab": {
          "base_uri": "https://localhost:8080/"
        },
        "id": "W-sJLV6VJLEL",
        "outputId": "ef722ea6-b14c-4f92-8cd4-256a4991ba64"
      },
      "source": [
        "gaussElimination(M)"
      ],
      "execution_count": null,
      "outputs": [
        {
          "output_type": "execute_result",
          "data": {
            "text/plain": [
              "array([[-0.12672176],\n",
              "       [ 0.1046832 ],\n",
              "       [ 1.19008264]])"
            ]
          },
          "metadata": {
            "tags": []
          },
          "execution_count": 15
        }
      ]
    },
    {
      "cell_type": "markdown",
      "metadata": {
        "id": "TtWsrfQIXDX1"
      },
      "source": [
        "The algorithm created is for handling systems of linear equations that have at least three equations and three unknowns within them. As such the add row, switch row, and multiply by constant functions all work with matrices larger than three by three. This makes it impossible to solve linear equations with less than the set limit. Larger systems of linear equations require larger operations not needed in smaller linear equation systems. Furthermore, the algorithm does not work with singular matrices that cannot be inverted. The solution largely relies on the use of the inverse of the matrix to find a solution."
      ]
    }
  ]
}