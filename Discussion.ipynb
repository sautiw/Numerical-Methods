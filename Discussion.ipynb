{
  "nbformat": 4,
  "nbformat_minor": 0,
  "metadata": {
    "colab": {
      "name": "Discussion.ipynb",
      "provenance": [],
      "collapsed_sections": [],
      "authorship_tag": "ABX9TyNdv7ZdJD4FbuPCIapiaEun",
      "include_colab_link": true
    },
    "kernelspec": {
      "name": "python3",
      "display_name": "Python 3"
    }
  },
  "cells": [
    {
      "cell_type": "markdown",
      "metadata": {
        "id": "view-in-github",
        "colab_type": "text"
      },
      "source": [
        "<a href=\"https://colab.research.google.com/github/sautiw/Numerical-Methods/blob/main/Discussion.ipynb\" target=\"_parent\"><img src=\"https://colab.research.google.com/assets/colab-badge.svg\" alt=\"Open In Colab\"/></a>"
      ]
    },
    {
      "cell_type": "markdown",
      "metadata": {
        "id": "-kS91okzDTuv"
      },
      "source": [
        "Finding Root\n",
        "\n",
        "Saurabh Tiwari\n",
        "\n",
        "For this cubic root I used Newton-Raphson method. The example polynomial I used is 3x^3 + 5x^2 + 5x + 6."
      ]
    },
    {
      "cell_type": "code",
      "metadata": {
        "colab": {
          "base_uri": "https://localhost:8080/"
        },
        "id": "nO_eVl0Vne0L",
        "outputId": "46d3bfb7-e3f2-494c-ab2a-ccddeed88ec8"
      },
      "source": [
        "import numpy as np\n",
        "from scipy.misc import derivative  \n",
        "\n",
        "x_n = 1  \n",
        "x = np.linspace(-1, 1,200) \n",
        "\n",
        "def function1(x):\n",
        "  return 3*x**3 + 5*x**2 + 5*x + 6\n",
        "\n",
        "def function2(eq, x, x_1): \n",
        "  slope = derivative(function1, x_n, dx = 1) \n",
        "  return x_n - eq(x_n)/slope \n",
        "\n",
        "for n in range (12): \n",
        "  print(x_n)     \n",
        "  x_n = function2(function1, x_n, x)"
      ],
      "execution_count": null,
      "outputs": [
        {
          "output_type": "stream",
          "text": [
            "1\n",
            "0.2962962962962963\n",
            "-0.3842462911090363\n",
            "-1.2312216595633154\n",
            "-1.4267188929892125\n",
            "-1.454237206056882\n",
            "-1.4603660908908096\n",
            "-1.4618022806185846\n",
            "-1.4621425249293465\n",
            "-1.462223336610852\n",
            "-1.4622425417978038\n",
            "-1.4622471066311618\n"
          ],
          "name": "stdout"
        }
      ]
    },
    {
      "cell_type": "markdown",
      "metadata": {
        "id": "_lfQxdQdDS9u"
      },
      "source": [
        "Following is the Graph for the polynomial."
      ]
    },
    {
      "cell_type": "code",
      "metadata": {
        "colab": {
          "base_uri": "https://localhost:8080/",
          "height": 295
        },
        "id": "Hl_bNcO-Ed4D",
        "outputId": "6e12d6b2-49b9-44fb-d03a-2b5022b26644"
      },
      "source": [
        "import numpy\n",
        "import matplotlib.pyplot\n",
        "a=3\n",
        "b=5\n",
        "c=5\n",
        "d=6\n",
        "x = numpy.linspace(-1, 1, 200, endpoint= True)\n",
        "y = a * (x * x * x) + (b * 0) + (c * x)+d\n",
        "matplotlib.pyplot.plot(x, y,'-g',label=r'$y = 3x^3 + 5x^2 + 5x + 6$')\n",
        "matplotlib.pyplot.xlabel('X-axis')\n",
        "matplotlib.pyplot.ylabel('Y-axis')\n",
        "matplotlib.pyplot.title('Cubic Function')\n",
        "matplotlib.pyplot.legend(loc='upper center')\n",
        "matplotlib.pyplot.axhline(0, color = 'blue')\n",
        "matplotlib.pyplot.grid()\n",
        "matplotlib.pyplot.show()"
      ],
      "execution_count": null,
      "outputs": [
        {
          "output_type": "display_data",
          "data": {
            "image/png": "[encoded data removed]",
            "text/plain": [
              "<Figure size 432x288 with 1 Axes>"
            ]
          },
          "metadata": {
            "tags": [],
            "needs_background": "light"
          }
        }
      ]
    }
  ]
}