{
  "nbformat": 4,
  "nbformat_minor": 0,
  "metadata": {
    "colab": {
      "name": "Project7.ipynb",
      "provenance": [],
      "collapsed_sections": [],
      "authorship_tag": "ABX9TyNp5s7Ha+3NPHcNb+aY6RRi",
      "include_colab_link": true
    },
    "kernelspec": {
      "name": "python3",
      "display_name": "Python 3"
    }
  },
  "cells": [
    {
      "cell_type": "markdown",
      "metadata": {
        "id": "view-in-github",
        "colab_type": "text"
      },
      "source": [
        "<a href=\"https://colab.research.google.com/github/sautiw/Numerical-Methods/blob/main/Project7.ipynb\" target=\"_parent\"><img src=\"https://colab.research.google.com/assets/colab-badge.svg\" alt=\"Open In Colab\"/></a>"
      ]
    },
    {
      "cell_type": "markdown",
      "metadata": {
        "id": "_n7ya-08Yj4i"
      },
      "source": [
        "### Project 7\n",
        "\n",
        "Saurabh Tiwari\n",
        "\n",
        "Salin Giri\n",
        "\n",
        "Rahul Gauli"
      ]
    },
    {
      "cell_type": "markdown",
      "metadata": {
        "id": "eh1AD_IrYyTj"
      },
      "source": [
        "# Integration"
      ]
    },
    {
      "cell_type": "code",
      "metadata": {
        "id": "WfVwrDopC5I9"
      },
      "source": [
        "import numpy as np\r\n",
        "from scipy import integrate\r\n",
        "import matplotlib.pyplot as plt\r\n",
        "from matplotlib.patches import Rectangle\r\n",
        "import math"
      ],
      "execution_count": null,
      "outputs": []
    },
    {
      "cell_type": "code",
      "metadata": {
        "id": "iBJ0sm5fDFgf"
      },
      "source": [
        "# we define the function f in a function so that it can be easily modified\r\n",
        "# when needed\r\n",
        "def f(x):\r\n",
        "    return np.sin(x)"
      ],
      "execution_count": null,
      "outputs": []
    },
    {
      "cell_type": "code",
      "metadata": {
        "id": "GzifF0oRabps"
      },
      "source": [
        "a = math.pi/3  # left boundary of the integral\r\n",
        "b = 4*math.pi/3  # right boundary of the integral\r\n",
        "x_limits = [0, 2*math.pi] # xlimits of the plots"
      ],
      "execution_count": null,
      "outputs": []
    },
    {
      "cell_type": "code",
      "metadata": {
        "colab": {
          "base_uri": "https://localhost:8080/"
        },
        "id": "gtWLRDf4aOC4",
        "outputId": "de376cd4-2844-4bf2-fd22-c5e1c78213e3"
      },
      "source": [
        "# calculate the value of the integral using the scipy library\r\n",
        "integrate.quad(np.sin, a,b)"
      ],
      "execution_count": null,
      "outputs": [
        {
          "output_type": "execute_result",
          "data": {
            "text/plain": [
              "(1.0000000000000007, 2.2220880938671468e-14)"
            ]
          },
          "metadata": {
            "tags": []
          },
          "execution_count": 12
        }
      ]
    },
    {
      "cell_type": "code",
      "metadata": {
        "id": "7fMQknntDd1k"
      },
      "source": [
        "# this function plots the curve and shades the area to be calculated\r\n",
        "def plot_function(f, a, b, x_limits):\r\n",
        "  \"\"\"\r\n",
        "  f: function to be plotted\r\n",
        "  a and b: boundaries of the integral to be calculated\r\n",
        "  x_limits: limits of the plot\r\n",
        "  \"\"\"\r\n",
        "    ax = plt.figure().add_subplot()\r\n",
        "    x = np.arange(x_limits[0], x_limits[1] + 0.1, .1)\r\n",
        "    ax.plot(x, f(x), 'blue', label=\"f(x)\")\r\n",
        "    ax.axhline(color='k', linewidth=0.8, label=\"x-axis\")\r\n",
        "    x_fill = np.arange(a, b+0.05, 0.05)\r\n",
        "    y = np.arange(0, f(a), 0.01)\r\n",
        "    x = np.ones_like(y)*a\r\n",
        "    ax.plot(x, y, 'blue', linewidth=0.8)\r\n",
        "    y = np.arange(f(b), 0, 0.01)\r\n",
        "    x = np.ones_like(y)*b\r\n",
        "    ax.plot(x, y, 'blue', linewidth=0.8)\r\n",
        "    y_fill = f(x_fill)\r\n",
        "    ax.fill_between(x_fill, y_fill, color=\"cyan\")\r\n",
        "    x = [a, b]\r\n",
        "    y = [0, 0]\r\n",
        "    ax.scatter(x, y, marker=\"|\", linewidths=2, edgecolors='k', facecolors='k')\r\n",
        "    point_names = [\"a\", \"b\"]\r\n",
        "    for i, txt in enumerate(point_names):\r\n",
        "        ax.annotate(txt, (x[i], y[i]))\r\n",
        "    ax.legend()\r\n",
        "    return ax"
      ],
      "execution_count": null,
      "outputs": []
    },
    {
      "cell_type": "code",
      "metadata": {
        "colab": {
          "base_uri": "https://localhost:8080/",
          "height": 265
        },
        "id": "5dEkhBaaDwVv",
        "outputId": "9f436531-08b8-43c9-ca6f-eb9c570a6252"
      },
      "source": [
        "plot_function(np.sin, math.pi/3, 4*math.pi/3, [0, 2* math.pi])\r\n",
        "plt.show()"
      ],
      "execution_count": null,
      "outputs": [
        {
          "output_type": "display_data",
          "data": {
            "image/png": "[encoded data removed]",
            "text/plain": [
              "<Figure size 432x288 with 1 Axes>"
            ]
          },
          "metadata": {
            "tags": [],
            "needs_background": "light"
          }
        }
      ]
    },
    {
      "cell_type": "code",
      "metadata": {
        "id": "MDzzC0g5Et2s"
      },
      "source": [
        "def deltax(a, b, n):\r\n",
        "  return (b-a)/n"
      ],
      "execution_count": null,
      "outputs": []
    },
    {
      "cell_type": "code",
      "metadata": {
        "id": "aHBpKe2uZGhz"
      },
      "source": [
        "# this function plots the rectangles of the reimann integral.\r\n",
        "def plot_reiman_rectangles(function, a, b, n, x_limits, indicator):\r\n",
        "    dx = deltax(a, b, n)\r\n",
        "    ax = plot_function(function, a, b, x_limits)\r\n",
        "    if indicator == 'right':\r\n",
        "        start = 1\r\n",
        "    elif indicator == 'left':\r\n",
        "        start = 0\r\n",
        "    elif indicator == 'mid':\r\n",
        "        start = 0.5\r\n",
        "    for j in np.arange(start, n + start):\r\n",
        "        rect_origin_x = a+(j-start)*dx\r\n",
        "        rect_height = function(a + j * dx)\r\n",
        "        ax.add_patch(Rectangle([rect_origin_x, 0], dx, rect_height, fill=False))\r\n",
        "        x = np.arange(rect_origin_x, rect_origin_x + dx+0.01, 0.01)\r\n",
        "        y_fill1 = f(x)\r\n",
        "        y_fill2 = np.ones_like(x) * rect_height\r\n",
        "        ax.fill_between(x, y_fill1, y_fill2, color=\"yellow\")\r\n",
        "    return ax"
      ],
      "execution_count": null,
      "outputs": []
    },
    {
      "cell_type": "code",
      "metadata": {
        "colab": {
          "base_uri": "https://localhost:8080/",
          "height": 265
        },
        "id": "tcLmSkDiZWk4",
        "outputId": "30456d4e-f524-470c-87a3-c72b4f7298d1"
      },
      "source": [
        "fig = plot_reiman_rectangles(f, a, b, 5, x_limits, \"mid\")\r\n",
        "plt.show()"
      ],
      "execution_count": null,
      "outputs": [
        {
          "output_type": "display_data",
          "data": {
            "image/png": "[encoded data removed]",
            "text/plain": [
              "<Figure size 432x288 with 1 Axes>"
            ]
          },
          "metadata": {
            "tags": [],
            "needs_background": "light"
          }
        }
      ]
    },
    {
      "cell_type": "markdown",
      "metadata": {
        "id": "B_dsKMjMchvV"
      },
      "source": [
        "### Numerical Integration: Riemann Sum"
      ]
    },
    {
      "cell_type": "code",
      "metadata": {
        "id": "FSgcjQEva-YB"
      },
      "source": [
        "#calculates the integral using the Reiamnn sum\r\n",
        "def riemannSum(function,a,b,n,indicator = 'right'):\r\n",
        "  dx = deltax(a,b,n)\r\n",
        "  if indicator == 'right':\r\n",
        "    start = 1\r\n",
        "  elif indicator == 'left':\r\n",
        "    start = 0\r\n",
        "  elif indicator == 'mid':\r\n",
        "    start = 0.5\r\n",
        "  sum = 0\r\n",
        "  for j in np.arange(start,n+start):\r\n",
        "    sum = sum + function(a + j*dx)*dx\r\n",
        "  return sum"
      ],
      "execution_count": null,
      "outputs": []
    },
    {
      "cell_type": "markdown",
      "metadata": {
        "id": "iGbdbN-5cKKt"
      },
      "source": [
        "### Trapazoid Rule"
      ]
    },
    {
      "cell_type": "code",
      "metadata": {
        "id": "nMjceexubIr5"
      },
      "source": [
        "# this function plots one trapezoid of the trapezoidal integral.\r\n",
        "def plot_trapezoid(ax, x1, delta_x, f):\r\n",
        "    y1 = f(x1)\r\n",
        "    x2 = x1 + delta_x\r\n",
        "    y2 = f(x2)\r\n",
        "    y = np.arange(min(0, y1), max(y1, 0)+0.01, 0.01)\r\n",
        "    x = np.ones_like(y) * x1\r\n",
        "    ax.plot(x, y, 'k', linewidth=0.8)\r\n",
        "    y = np.arange(min(0, y2), max(y2, 0) +0.01, 0.01)\r\n",
        "    x = np.ones_like(y) * x2\r\n",
        "    ax.plot(x, y, 'k', linewidth=0.8)\r\n",
        "    slope = (y2-y1)/delta_x\r\n",
        "    x = np.arange(x1, x2, 0.01)\r\n",
        "    y = slope * (x - x1) + y1\r\n",
        "    ax.plot(x, y, 'k', linewidth=0.8)\r\n",
        "    y_fill1 = f(x)\r\n",
        "    ax.fill_between(x, y_fill1, y, color=\"yellow\")"
      ],
      "execution_count": null,
      "outputs": []
    },
    {
      "cell_type": "code",
      "metadata": {
        "id": "MD7aVWfEbX22"
      },
      "source": [
        "# this function plots all the trapezoids of the trapezoidal integral.\r\n",
        "def plot_trapezoids(function, a, b, n, x_limits):\r\n",
        "    dx = deltax(a, b, n)\r\n",
        "    ax = plot_function(function, a, b, x_limits)\r\n",
        "    for j in np.arange(0, n):\r\n",
        "        trap_origin_x = a+j*dx\r\n",
        "        plot_trapezoid(ax, trap_origin_x, dx, function)\r\n",
        "    return ax"
      ],
      "execution_count": null,
      "outputs": []
    },
    {
      "cell_type": "code",
      "metadata": {
        "colab": {
          "base_uri": "https://localhost:8080/",
          "height": 265
        },
        "id": "zcjG_qPkbkFC",
        "outputId": "174567d7-f30a-4d8a-ad2a-7a24902eff86"
      },
      "source": [
        "fig = plot_trapezoids(f, a, b, 4, x_limits)\r\n",
        "plt.show()"
      ],
      "execution_count": null,
      "outputs": [
        {
          "output_type": "display_data",
          "data": {
            "image/png": "[encoded data removed]",
            "text/plain": [
              "<Figure size 432x288 with 1 Axes>"
            ]
          },
          "metadata": {
            "tags": [],
            "needs_background": "light"
          }
        }
      ]
    },
    {
      "cell_type": "code",
      "metadata": {
        "id": "HpLrSKLzbpib"
      },
      "source": [
        "#calculates the integral using trapezoidal rule\r\n",
        "def trap (function, a, b, n):\r\n",
        "  dx = deltax(a,b,n)\r\n",
        "  sum = 0\r\n",
        "  for i in range(1, n):\r\n",
        "    sum = sum + 2*function(a+i*dx)\r\n",
        "  for i in [a,b]:\r\n",
        "    sum = sum +function(i)\r\n",
        "  sum = dx/2 *sum\r\n",
        "  return sum"
      ],
      "execution_count": null,
      "outputs": []
    },
    {
      "cell_type": "code",
      "metadata": {
        "id": "BLNPqVbob-YA"
      },
      "source": [
        "# computing the integral using trapezoidal rule for different number of intervals/bins\r\n",
        "def calculate_relative_error(integration_function, f, a, b, expected_value, indicator=None):\r\n",
        "  nb_of_bins = [5, 10, 100, 1000, 10000]\r\n",
        "  print(\"nb of bins\\tcorresponding error\")\r\n",
        "  for i in nb_of_bins:\r\n",
        "    if indicator is not None:\r\n",
        "      actual_value = integration_function(f, a, b, i, indicator)\r\n",
        "    else:\r\n",
        "      actual_value = integration_function(f, a, b, i)\r\n",
        "    error = (actual_value - expected_value) / expected_value\r\n",
        "    print(f\"{i}\\t\\t\\t{error}\")"
      ],
      "execution_count": null,
      "outputs": []
    },
    {
      "cell_type": "code",
      "metadata": {
        "colab": {
          "base_uri": "https://localhost:8080/"
        },
        "id": "hQMr4lrWcWoF",
        "outputId": "6aa94427-d93d-4ff1-80ca-27920edfeeed"
      },
      "source": [
        "calculate_relative_error(riemannSum, f, a, b, 1, \"mid\")\r\n",
        "\r\n"
      ],
      "execution_count": null,
      "outputs": [
        {
          "output_type": "stream",
          "text": [
            "nb of bins\tcorresponding error\n",
            "5\t\t\t0.016640738463052696\n",
            "10\t\t\t0.004124203953988159\n",
            "100\t\t\t4.112453549254269e-05\n",
            "1000\t\t\t4.1123363581085925e-07\n",
            "10000\t\t\t4.112330920236218e-09\n"
          ],
          "name": "stdout"
        }
      ]
    },
    {
      "cell_type": "code",
      "metadata": {
        "colab": {
          "base_uri": "https://localhost:8080/"
        },
        "id": "ERt2L7_Aex13",
        "outputId": "bd3a5b8f-a422-4502-83c6-20c84c81f86a"
      },
      "source": [
        "calculate_relative_error(trap, f, a, b, 1)"
      ],
      "execution_count": null,
      "outputs": [
        {
          "output_type": "stream",
          "text": [
            "nb of bins\tcorresponding error\n",
            "5\t\t\t-0.033117200953596715\n",
            "10\t\t\t-0.00823823124527212\n",
            "100\t\t\t-8.224805627854437e-05\n",
            "1000\t\t\t-8.224671684819995e-07\n",
            "10000\t\t\t-8.22466428296309e-09\n"
          ],
          "name": "stdout"
        }
      ]
    },
    {
      "cell_type": "code",
      "metadata": {
        "colab": {
          "base_uri": "https://localhost:8080/"
        },
        "id": "rKKRA-F6fq0T",
        "outputId": "bda8d615-11fd-45a7-9837-f61cead00432"
      },
      "source": [
        "a1 = 0\r\n",
        "b1 = math.pi/2\r\n",
        "indicators = [\"left\", \"right\", \"mid\"]\r\n",
        "for indicator in indicators:\r\n",
        "  print(indicator)\r\n",
        "  calculate_relative_error(riemannSum, f, a, b, 1, indicator)\r\n",
        "  print(\"\")"
      ],
      "execution_count": null,
      "outputs": [
        {
          "output_type": "stream",
          "text": [
            "left\n",
            "nb of bins\tcorresponding error\n",
            "5\t\t\t0.5110226083166682\n",
            "10\t\t\t0.26383167338986024\n",
            "100\t\t\t0.027124742407235614\n",
            "1000\t\t\t0.0027198765791804913\n",
            "10000\t\t\t0.0002720616799751774\n",
            "\n",
            "right\n",
            "nb of bins\tcorresponding error\n",
            "5\t\t\t-0.5772570102238621\n",
            "10\t\t\t-0.28030813588040504\n",
            "100\t\t\t-0.027289238519790704\n",
            "1000\t\t\t-0.0027215215135222293\n",
            "10000\t\t\t-0.0002720781292951946\n",
            "\n",
            "mid\n",
            "nb of bins\tcorresponding error\n",
            "5\t\t\t0.016640738463052696\n",
            "10\t\t\t0.004124203953988159\n",
            "100\t\t\t4.112453549254269e-05\n",
            "1000\t\t\t4.1123363581085925e-07\n",
            "10000\t\t\t4.112330920236218e-09\n",
            "\n"
          ],
          "name": "stdout"
        }
      ]
    }
  ]
}